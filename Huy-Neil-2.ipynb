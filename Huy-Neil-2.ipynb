{
 "cells": [
  {
   "cell_type": "code",
   "execution_count": 1,
   "metadata": {},
   "outputs": [
    {
     "data": {
      "text/plain": [
       "<Figure size 640x480 with 1 Axes>"
      ]
     },
     "metadata": {},
     "output_type": "display_data"
    },
    {
     "data": {
      "text/plain": [
       "<Figure size 640x480 with 1 Axes>"
      ]
     },
     "metadata": {},
     "output_type": "display_data"
    }
   ],
   "source": [
    "import scipy as sp\n",
    "import matplotlib.pyplot as plt\n",
    "import numpy as np\n",
    "\n",
    "from random import random\n",
    "from numpy import log\n",
    "from numpy import math\n",
    "from scipy import misc\n",
    "\n",
    "\n",
    "#----------------------------------------------------------------------------------------#\n",
    "# Function\n",
    "\n",
    "def fonction(x):\n",
    "    return (pow(x,4)-16*pow(x,2)+5*x)/100\n",
    "   # return (x**4-16*(x**2)+5*x)\n",
    "   #return x*x\n",
    "\n",
    "#----------------------------------------------------------------------------------------#\n",
    "\n",
    "x = np.arange(-5.0, 5.0, 0.01)\n",
    "y = fonction(x)\n",
    "\n",
    "plt.plot(x, y,'r-')\n",
    "plt.show()\n",
    "\n",
    "#----------------------------------------------------------------------------------------#\n",
    "# Gradient Descent\n",
    "\n",
    "error = [];\n",
    "iters = [];\n",
    "steps = [];\n",
    "\n",
    "alpha = 0.5 # learning rate stepsize\n",
    "beta = 0.5 # learning rate stepsize \n",
    "nb_max_iter = 1000 # Nb max d'iteration\n",
    "\n",
    "x = 4 # start point\n",
    "nb_iter = 1\n",
    "while nb_iter < nb_max_iter:\n",
    "    nb_iter = nb_iter + 1\n",
    "    #x = x - 0.01* (4*pow(x,3) - 32*x + 5)/100 + math.sqrt(2*0.01)*np.random.normal()\n",
    "    #x = x - pow(nb_iter,-alpha) * (2*x)\n",
    "    #x = x - pow(nb_iter,-alpha) * (4*pow(x,3) - 32*x + 5)/100 + math.sqrt(2* pow(nb_iter,-alpha)/log(nb_iter))*(np.random.normal())\n",
    "    x = x - pow(nb_iter,-alpha) * (4*pow(x,3) - 32*x + 5)/100 + math.sqrt(2* pow(nb_iter,-alpha)*pow(nb_iter,-beta))*(np.random.normal())\n",
    "    plt.scatter(nb_iter, x)\n",
    "    \n",
    "    \n",
    "\n",
    "plt.title(\"Gradient Descent for quartic function\")\n",
    "plt.grid()\n",
    "\n",
    "plt.savefig(\"gradient_descent_1d_python.png\", bbox_inches='tight')\n",
    "plt.show()\n"
   ]
  },
  {
   "cell_type": "code",
   "execution_count": 12,
   "metadata": {},
   "outputs": [
    {
     "data": {
      "text/plain": [
       "0.1909178461136248"
      ]
     },
     "execution_count": 12,
     "metadata": {},
     "output_type": "execute_result"
    }
   ],
   "source": [
    "math.sqrt(2* pow(nb_iter,-0.3)/log(nb_iter))"
   ]
  },
  {
   "cell_type": "code",
   "execution_count": 54,
   "metadata": {},
   "outputs": [
    {
     "data": {
      "text/plain": [
       "0.10908984163722611"
      ]
     },
     "execution_count": 54,
     "metadata": {},
     "output_type": "execute_result"
    }
   ],
   "source": [
    "2* pow(nb_iter,-0.3)/log(nb_iter)\n"
   ]
  },
  {
   "cell_type": "code",
   "execution_count": 103,
   "metadata": {},
   "outputs": [
    {
     "data": {
      "text/plain": [
       "8"
      ]
     },
     "execution_count": 103,
     "metadata": {},
     "output_type": "execute_result"
    }
   ],
   "source": [
    "pow(2,3)"
   ]
  },
  {
   "cell_type": "code",
   "execution_count": null,
   "metadata": {},
   "outputs": [],
   "source": []
  }
 ],
 "metadata": {
  "kernelspec": {
   "display_name": "Python 3",
   "language": "python",
   "name": "python3"
  },
  "language_info": {
   "codemirror_mode": {
    "name": "ipython",
    "version": 3
   },
   "file_extension": ".py",
   "mimetype": "text/x-python",
   "name": "python",
   "nbconvert_exporter": "python",
   "pygments_lexer": "ipython3",
   "version": "3.7.4"
  }
 },
 "nbformat": 4,
 "nbformat_minor": 4
}
